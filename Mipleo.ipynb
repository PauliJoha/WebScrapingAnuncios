{
 "cells": [
  {
   "cell_type": "code",
   "execution_count": null,
   "id": "aca50844",
   "metadata": {},
   "outputs": [],
   "source": [
    "#Importa librerias necesarias\n",
    "import time\n",
    "import pandas as pd\n",
    "from selenium import webdriver\n",
    "from pymongo import MongoClient"
   ]
  },
  {
   "cell_type": "code",
   "execution_count": null,
   "id": "872f4c3f",
   "metadata": {},
   "outputs": [],
   "source": [
    "#Asigna la url de mipleo filtrando los ultimos dias de anuncios\n",
    "url = \"https://www.mipleo.com.ec/ofertas-de-trabajo/?q=&range=15\""
   ]
  },
  {
   "cell_type": "code",
   "execution_count": null,
   "id": "a2172147",
   "metadata": {},
   "outputs": [],
   "source": [
    "#Conecta con mongodb\n",
    "Client = MongoClient('localhost',27017)"
   ]
  },
  {
   "cell_type": "code",
   "execution_count": null,
   "id": "9e861e82",
   "metadata": {},
   "outputs": [],
   "source": [
    "#Lista las bases de mongodb\n",
    "Client.list_database_names()"
   ]
  },
  {
   "cell_type": "code",
   "execution_count": null,
   "id": "d270c660",
   "metadata": {},
   "outputs": [],
   "source": [
    "#Selecciona la base alldata\n",
    "db = Client.alldata\n",
    "db"
   ]
  },
  {
   "cell_type": "code",
   "execution_count": null,
   "id": "10b56f93",
   "metadata": {},
   "outputs": [],
   "source": [
    "#Lista las colecciones\n",
    "colecciones = db.list_collection_names()\n",
    "colecciones"
   ]
  },
  {
   "cell_type": "code",
   "execution_count": null,
   "id": "636dd867",
   "metadata": {},
   "outputs": [],
   "source": [
    "#Selecciona la coleccion creada para mipleo\n",
    "collection = db[\"mipleo\"]\n",
    "collection"
   ]
  },
  {
   "cell_type": "code",
   "execution_count": null,
   "id": "649e8ccc",
   "metadata": {},
   "outputs": [],
   "source": [
    "#Crea el metodo\n",
    "def extraer_anuncios(driver):\n",
    "    print('Realizando scraping...')\n",
    "    #inicia en 4 por otros elementos de la pagina\n",
    "    i=4\n",
    "    try:\n",
    "        #guarda los anuncios en una lista\n",
    "        anuncios = driver.find_elements_by_xpath('//*[@id=\"content\"]/div[@class=\"col_rt big\"]/div[@class=\"item_list\"]')\n",
    "        #recorre la lista\n",
    "        while i <= len(anuncios):\n",
    "            #vuelve a guardar la lista de anuncios para actualizarla\n",
    "            anuncios = driver.find_elements_by_xpath('//*[@id=\"content\"]/div[@class=\"col_rt big\"]/div[@class=\"item_list\"]')\n",
    "            #selecciona el anuncio deacuerdo a la posicion del while\n",
    "            anuncio=anuncios[i]\n",
    "            #convierte la posicion en un string\n",
    "            a=i\n",
    "            b=str(a)\n",
    "            #selecciona el anuncio segun el string y le da click\n",
    "            driver.find_element_by_xpath('//*[@id=\"content\"]/div[3]/div['+b+']/div/span/a').click()\n",
    "            #agrega un tiempo de demora\n",
    "            time.sleep(5)\n",
    "            #obtiene los datos del empleo\n",
    "            cargo = driver.find_element_by_xpath('//*[@id=\"content\"]/div[2]/h1').text\n",
    "            tipocontrato = driver.find_element_by_xpath('//*[@id=\"content\"]/div[3]/div[2]/ul/li[6]/b').text\n",
    "            ciudad = driver.find_element_by_xpath('//*[@id=\"content\"]/div[3]/div[2]/ul/li[4]/b').text\n",
    "            fechapublicacion = driver.find_element_by_xpath('//*[@id=\"content\"]/div[3]/div[2]/ul/li[5]/b').text \n",
    "            remuneracion = driver.find_element_by_xpath('//*[@id=\"content\"]/div[3]/div[2]/ul/li[1]/b').text\n",
    "            categoria = driver.find_element_by_xpath('//*[@id=\"content\"]/div[3]/div[2]/ul/li[2]/b').text \n",
    "            subcategoria = driver.find_element_by_xpath('//*[@id=\"content\"]/div[3]/div[2]/ul/li[3]/b').text\n",
    "            contenido = driver.find_element_by_xpath('//*[@id=\"content\"]/div[3]/div[2]/div[2]/p').text.replace('\\n',\"\")\n",
    "            numcargos = driver.find_element_by_xpath('//*[@id=\"content\"]/div[3]/div[2]/ul/li[8]/b').text\n",
    "            \n",
    "            #guarda en un diccionario\n",
    "            anuncio_dict = {\n",
    "                'portalweb':\"mipleo\",\n",
    "                'cargo':cargo,\n",
    "                'tipocontrato':tipocontrato,\n",
    "                'ciudad':ciudad,\n",
    "                'fechapublicacion':fechapublicacion,\n",
    "                'remuneracion':remuneracion,\n",
    "                'categoria':categoria,\n",
    "                'subcategoria':subcategoria,\n",
    "                'contenido':contenido,\n",
    "                'numcargos':numcargos\n",
    "            }\n",
    "            \n",
    "            #consulta si el empleo ya existe\n",
    "            if collection.find_one(anuncio_dict):\n",
    "                #si existe regresa\n",
    "                driver.back()\n",
    "            else:\n",
    "                #si no existe inserta en la coleccion\n",
    "                collection.insert_one(anuncio_dict)\n",
    "                #regresa\n",
    "                driver.back()\n",
    "            #agrega un tiempo de demora\n",
    "            time.sleep(10)\n",
    "            i+= 1\n",
    "    except:\n",
    "        print('Terminado')"
   ]
  },
  {
   "cell_type": "code",
   "execution_count": null,
   "id": "709e3152",
   "metadata": {},
   "outputs": [],
   "source": [
    "#Inicia el web driver desde su ubicacion en el equipo\n",
    "driver = webdriver.Chrome(executable_path='C:/Users/DELL/Downloads/chromedriver.exe')"
   ]
  },
  {
   "cell_type": "code",
   "execution_count": null,
   "id": "3e32bb66",
   "metadata": {},
   "outputs": [],
   "source": [
    "#Ingresa a la url\n",
    "driver.get(url)"
   ]
  },
  {
   "cell_type": "code",
   "execution_count": null,
   "id": "bc039815",
   "metadata": {},
   "outputs": [],
   "source": [
    "#Ejecuta el metodo\n",
    "extraer_anuncios(driver)"
   ]
  },
  {
   "cell_type": "code",
   "execution_count": null,
   "id": "2e9e4b16",
   "metadata": {},
   "outputs": [],
   "source": []
  }
 ],
 "metadata": {
  "kernelspec": {
   "display_name": "Python 3",
   "language": "python",
   "name": "python3"
  },
  "language_info": {
   "codemirror_mode": {
    "name": "ipython",
    "version": 3
   },
   "file_extension": ".py",
   "mimetype": "text/x-python",
   "name": "python",
   "nbconvert_exporter": "python",
   "pygments_lexer": "ipython3",
   "version": "3.7.10"
  }
 },
 "nbformat": 4,
 "nbformat_minor": 5
}
