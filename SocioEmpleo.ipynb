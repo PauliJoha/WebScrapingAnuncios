{
 "cells": [
  {
   "cell_type": "code",
   "execution_count": null,
   "id": "99ce5106",
   "metadata": {},
   "outputs": [],
   "source": [
    "#Importa librerias necesarias\n",
    "import time\n",
    "import pandas as pd\n",
    "from selenium import webdriver\n",
    "from pymongo import MongoClient"
   ]
  },
  {
   "cell_type": "code",
   "execution_count": null,
   "id": "f41068e6",
   "metadata": {},
   "outputs": [],
   "source": [
    "#Asigna la url de socio empleo en la seccion ofertas de empleo ocasionales\n",
    "url = \"http://www.socioempleo.gob.ec/socioEmpleo-war/paginas/procesos/busquedaOferta.jsf\""
   ]
  },
  {
   "cell_type": "code",
   "execution_count": null,
   "id": "a61a13bd",
   "metadata": {},
   "outputs": [],
   "source": [
    "#Conecta con mongodb\n",
    "Client = MongoClient('localhost',27017)"
   ]
  },
  {
   "cell_type": "code",
   "execution_count": null,
   "id": "1452f37a",
   "metadata": {},
   "outputs": [],
   "source": [
    "#Lista las bases de mongodb\n",
    "Client.list_database_names()"
   ]
  },
  {
   "cell_type": "code",
   "execution_count": null,
   "id": "d925e505",
   "metadata": {},
   "outputs": [],
   "source": [
    "#Selecciona la base alldata\n",
    "db = Client.alldata\n",
    "db"
   ]
  },
  {
   "cell_type": "code",
   "execution_count": null,
   "id": "b638dd3f",
   "metadata": {},
   "outputs": [],
   "source": [
    "#Lista las colecciones\n",
    "colecciones = db.list_collection_names()\n",
    "colecciones"
   ]
  },
  {
   "cell_type": "code",
   "execution_count": null,
   "id": "eb8dbc58",
   "metadata": {},
   "outputs": [],
   "source": [
    "#Selecciona la coleccion creada para socioempleo\n",
    "collection = db[\"socioempleo\"]\n",
    "collection"
   ]
  },
  {
   "cell_type": "code",
   "execution_count": null,
   "id": "66dd2bcd",
   "metadata": {},
   "outputs": [],
   "source": [
    "#Crea el metodo\n",
    "def obtener_empleos(driver):\n",
    "    print('Realizando scraping...')\n",
    "    #inicializa a en el numero de pagina inicial\n",
    "    a=0\n",
    "    try:\n",
    "        #agrega un limite de paginas en la condicion\n",
    "        while a <= 9:\n",
    "            #convierte a en un string\n",
    "            b=str(a)\n",
    "            #inicia i en cero siempre\n",
    "            i=0\n",
    "            try:\n",
    "                #recorre los cinco anuncios de cada pagina\n",
    "                while i <= 4:\n",
    "                    #despliega la lista del combobox\n",
    "                    driver.find_element_by_xpath('//*[@id=\"formBuscaOferta:pagina\"]/div[3]/span').click()\n",
    "                    #selecciona la pagina segun el string\n",
    "                    driver.find_element_by_xpath('//*[@id=\"formBuscaOferta:pagina_'+b+'\"]').click()\n",
    "                    #agrega un tiempo de demora\n",
    "                    time.sleep(10)\n",
    "                    #guarda los empleos en una lista\n",
    "                    empleos = driver.find_elements_by_xpath('//fieldset[@class=\"ui-fieldset ui-widget ui-widget-content ui-corner-all ui-hidden-container\"]')\n",
    "                    #selecciona el empleo deacuerdo a la posicion del while\n",
    "                    empleo = empleos[i]\n",
    "                    #clickea en el boton ver oferta\n",
    "                    empleo.find_element_by_xpath('./div[@class=\"ui-fieldset-content\"]/a').click()\n",
    "                    #agrega un tiempo de demora\n",
    "                    time.sleep(20)\n",
    "                    #obtiene los datos del empleo\n",
    "                    portalweb = \"socioempleo\"\n",
    "                    cargo = driver.find_element_by_xpath('//table[@class=\"ui-panelgrid ui-widget\"]//table[@class=\"ui-panelgrid ui-widget\"]//tr[@class=\"ui-widget-content\"]//td[@class=\"ui-panelgrid-cell form-input\"]').text\n",
    "                    tipocontrato = driver.find_element_by_xpath('//table[@class=\"ui-panelgrid ui-widget\"]//table[@class=\"ui-panelgrid ui-widget\"]//tr[@class=\"ui-widget-content\"]//td[@class=\"ui-panelgrid-cell form-input\"]//*[@id=\"formBuscaOferta:j_idt47\"]').text\n",
    "                    ciudad = driver.find_element_by_xpath('//table[@class=\"ui-panelgrid ui-widget\"]//table[@class=\"ui-panelgrid ui-widget\"]//tr[@class=\"ui-widget-content\"]//td[@class=\"ui-panelgrid-cell form-input\"]//label[@class=\"ui-outputlabel ui-widget\"]').text\n",
    "                    fechapublicacion = driver.find_element_by_xpath('//table[@class=\"ui-panelgrid ui-widget\"]//*[@id=\"formBuscaOferta:olGrid\"]/tbody/tr[4]/td[2]').text\n",
    "                    fechafinalizacion = driver.find_element_by_xpath('//table[@class=\"ui-panelgrid ui-widget\"]//*[@id=\"formBuscaOferta:olGrid\"]/tbody/tr[4]/td[4]').text\n",
    "                    instruccion = driver.find_element_by_xpath('//table[@class=\"ui-panelgrid ui-widget\"]//table[@class=\"ui-panelgrid ui-widget\"]//tr[@class=\"ui-widget-content\"]//td[@class=\"ui-panelgrid-cell form-input\"]//*[@id=\"formBuscaOferta:j_idt81\"]').text\n",
    "                    remuneracion = driver.find_element_by_xpath('//table[@class=\"ui-panelgrid ui-widget\"]//table[@class=\"ui-panelgrid ui-widget\"]//tr[@class=\"ui-widget-content\"]//td[@class=\"ui-panelgrid-cell form-input\"]//*[@id=\"formBuscaOferta:j_idt84\"]').text\n",
    "                    areaestudios = driver.find_element_by_xpath('//table[@class=\"ui-panelgrid ui-widget\"]//table[@class=\"ui-panelgrid ui-widget\"]//tr[@class=\"ui-widget-content\"]//td[@class=\"ui-panelgrid-cell form-input\"]//*[@id=\"formBuscaOferta:j_idt87\"]').text\n",
    "                    experiencia = driver.find_element_by_xpath('//table[@class=\"ui-panelgrid ui-widget\"]//table[@class=\"ui-panelgrid ui-widget\"]//tr[@class=\"ui-widget-content\"]//td[@class=\"ui-panelgrid-cell form-input\"]//*[@id=\"formBuscaOferta:j_idt90\"]').text\n",
    "                    conocimientos = driver.find_element_by_xpath('//table[@class=\"ui-panelgrid ui-widget\"]//*[@id=\"formBuscaOferta:j_idt78\"]/tbody/tr[3]/td[2]').text\n",
    "                    actividades = driver.find_element_by_xpath('//table[@class=\"ui-panelgrid ui-widget\"]//*[@id=\"formBuscaOferta:j_idt78\"]/tbody/tr[3]/td[4]').text\n",
    "                    capacitaciones = driver.find_element_by_xpath('//table[@class=\"ui-panelgrid ui-widget\"]//table[@class=\"ui-panelgrid ui-widget\"]//tr[@class=\"ui-widget-content\"]//td[@class=\"ui-panelgrid-cell form-input\"]//*[@id=\"formBuscaOferta:j_idt97\"]').text\n",
    "                    jornadatrabajo = driver.find_element_by_xpath('//table[@class=\"ui-panelgrid ui-widget\"]//table[@class=\"ui-panelgrid ui-widget\"]//tr[@class=\"ui-widget-content\"]//td[@class=\"ui-panelgrid-cell form-input\"]//*[@id=\"formBuscaOferta:j_idt100\"]').text\n",
    "                    numcargos = driver.find_element_by_xpath('//table[@class=\"ui-panelgrid ui-widget\"]//*[@id=\"formBuscaOferta:j_idt78\"]/tbody/tr[5]/td[4]').text\n",
    "\n",
    "                    #guarda en un diccionario\n",
    "                    empleo_dict = {\n",
    "                        'portalweb':portalweb,\n",
    "                        'cargo':cargo,\n",
    "                        'tipocontrato':tipocontrato,\n",
    "                        'ciudad':ciudad,\n",
    "                        'fechapublicacion':fechapublicacion,\n",
    "                        'fechafinalizacion':fechafinalizacion,\n",
    "                        'instruccion':instruccion,\n",
    "                        'remuneracion':remuneracion,\n",
    "                        'areaestudios':areaestudios,\n",
    "                        'experiencia':experiencia,\n",
    "                        'conocimientos':conocimientos,\n",
    "                        'actividades':actividades,\n",
    "                        'capacitaciones':capacitaciones,\n",
    "                        'jornadatrabajo':jornadatrabajo,\n",
    "                        'numcargos':numcargos \n",
    "                    }\n",
    "                    \n",
    "                    #consulta si el empleo ya existe\n",
    "                    if collection.find_one(empleo_dict):\n",
    "                        #si existe regresa\n",
    "                        driver.back()\n",
    "                    else:\n",
    "                        #si no existe inserta en la coleccion\n",
    "                        collection.insert_one(empleo_dict)\n",
    "                        #regresa\n",
    "                        driver.back()\n",
    "                    #agrega un tiempo de demora\n",
    "                    time.sleep(25)\n",
    "                    i+= 1\n",
    "            except:\n",
    "                print(\"Fin pagina\")\n",
    "            a+= 1\n",
    "    except:\n",
    "        print(\"No mas paginas\")\n",
    "    print(\"Terminado\")"
   ]
  },
  {
   "cell_type": "code",
   "execution_count": null,
   "id": "7c93b070",
   "metadata": {},
   "outputs": [],
   "source": [
    "#Inicia el web driver desde su ubicacion en el equipo\n",
    "driver = webdriver.Chrome(executable_path='C:/Users/DELL/Downloads/chromedriver.exe')"
   ]
  },
  {
   "cell_type": "code",
   "execution_count": null,
   "id": "f76b0231",
   "metadata": {},
   "outputs": [],
   "source": [
    "#Ingresa a la url\n",
    "driver.get(url)"
   ]
  },
  {
   "cell_type": "code",
   "execution_count": null,
   "id": "4211ea6c",
   "metadata": {},
   "outputs": [],
   "source": [
    "#Ejecuta el metodo\n",
    "obtener_empleos(driver)"
   ]
  },
  {
   "cell_type": "code",
   "execution_count": null,
   "id": "1973777f",
   "metadata": {},
   "outputs": [],
   "source": []
  }
 ],
 "metadata": {
  "kernelspec": {
   "display_name": "Python 3",
   "language": "python",
   "name": "python3"
  },
  "language_info": {
   "codemirror_mode": {
    "name": "ipython",
    "version": 3
   },
   "file_extension": ".py",
   "mimetype": "text/x-python",
   "name": "python",
   "nbconvert_exporter": "python",
   "pygments_lexer": "ipython3",
   "version": "3.7.10"
  }
 },
 "nbformat": 4,
 "nbformat_minor": 5
}
