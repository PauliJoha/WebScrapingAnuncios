{
 "cells": [
  {
   "cell_type": "code",
   "execution_count": null,
   "id": "56df0846",
   "metadata": {},
   "outputs": [],
   "source": [
    "#Importa librerias necesarias\n",
    "import time\n",
    "import pandas as pd\n",
    "from selenium import webdriver\n",
    "from pymongo import MongoClient"
   ]
  },
  {
   "cell_type": "code",
   "execution_count": null,
   "id": "0de8625a",
   "metadata": {},
   "outputs": [],
   "source": [
    "#Asigna la url de accion trabajo filtrando desde los mas recientes\n",
    "url = \"https://acciontrabajo.ec/buscar-empleos?o=d\""
   ]
  },
  {
   "cell_type": "code",
   "execution_count": null,
   "id": "06ddfbe4",
   "metadata": {},
   "outputs": [],
   "source": [
    "#Conecta con mongodb\n",
    "Client = MongoClient('localhost',27017)"
   ]
  },
  {
   "cell_type": "code",
   "execution_count": null,
   "id": "32687a13",
   "metadata": {},
   "outputs": [],
   "source": [
    "#Lista las bases de mongodb\n",
    "Client.list_database_names()"
   ]
  },
  {
   "cell_type": "code",
   "execution_count": null,
   "id": "22bf9765",
   "metadata": {},
   "outputs": [],
   "source": [
    "#Selecciona la base alldata\n",
    "db = Client.alldata\n",
    "db"
   ]
  },
  {
   "cell_type": "code",
   "execution_count": null,
   "id": "53529db4",
   "metadata": {},
   "outputs": [],
   "source": [
    "#Lista las colecciones\n",
    "colecciones = db.list_collection_names()\n",
    "colecciones"
   ]
  },
  {
   "cell_type": "code",
   "execution_count": null,
   "id": "30b3934a",
   "metadata": {},
   "outputs": [],
   "source": [
    "#Selecciona la coleccion creada para acciontrabajo\n",
    "collection = db[\"acciontrabajo\"]\n",
    "collection"
   ]
  },
  {
   "cell_type": "code",
   "execution_count": null,
   "id": "e15e11ad",
   "metadata": {},
   "outputs": [],
   "source": [
    "#Crea el metodo\n",
    "def extraer_ofertas(driver):\n",
    "    print('Realizando scraping...')\n",
    "    #inicia desde la oferta mas reciente\n",
    "    i=0\n",
    "    try:\n",
    "        #guarda las ofertas en una lista\n",
    "        ofertas = driver.find_elements_by_xpath('//*[@id=\"main_content\"]/div/div/div/article/section')\n",
    "        #recorre la lista\n",
    "        while i <= len(ofertas):\n",
    "            #vuelve a guardar la lista de las ofertas para actualizarla\n",
    "            ofertas = driver.find_elements_by_xpath('//*[@id=\"main_content\"]/div/div/div/article/section')\n",
    "            #selecciona la oferta deacuerdo a la posicion del while\n",
    "            oferta=ofertas[i]\n",
    "            #obtiene una parte de los datos\n",
    "            cargo = oferta.find_element_by_xpath('./div[@class=\"list_item v_list_item\"]/a/h2').text\n",
    "            fechapublicacion = oferta.find_element_by_xpath('./div[@class=\"list_item v_list_item\"]//div[@class=\"basic_details\"]/div/div').text\n",
    "            #clickea la oferta\n",
    "            oferta.find_element_by_xpath('./div[@class=\"list_item v_list_item\"]/a').click()\n",
    "            #agrega un tiempo de demora\n",
    "            time.sleep(5)\n",
    "            #obtiene la otra parte de los datos\n",
    "            ciudad = driver.find_element_by_xpath('//*[@id=\"core_content\"]/div[1]/div/div[2]/div/div[1]/div[2]/span').text \n",
    "            tipocontrato = driver.find_element_by_xpath('//*[@id=\"core_content\"]/div[1]/div/div[2]/div/div[4]/div[2]').text\n",
    "            experiencia = driver.find_element_by_xpath('//*[@id=\"core_content\"]/div[1]/div/div[2]/div/div[2]/div[2]').text[12:]\n",
    "            remuneracion = driver.find_element_by_xpath('//*[@id=\"core_content\"]/div[1]/div/div[2]/div/div[5]/div[2]').text[8:]\n",
    "            areaestudios = driver.find_element_by_xpath('//*[@id=\"core_content\"]/div[1]/div/div[2]/div/div[3]').text\n",
    "            contenido = driver.find_element_by_xpath('//*[@id=\"core_content\"]/div[2]/div/div').text.replace('\\n',\"\")\n",
    "            \n",
    "            #guarda en un diccionario\n",
    "            oferta_dict = {\n",
    "                'portalweb':\"acciontrabajo\",\n",
    "                'cargo':cargo,\n",
    "                'tipocontrato':tipocontrato,\n",
    "                'ciudad':ciudad,\n",
    "                'fechapublicacion':fechapublicacion,\n",
    "                'remuneracion':remuneracion,\n",
    "                'areaestudios':areaestudios,\n",
    "                'experiencia':experiencia,\n",
    "                'contenido':contenido\n",
    "            }\n",
    "            \n",
    "            #consulta si la oferta ya existe\n",
    "            if collection.find_one(oferta_dict):\n",
    "                #si existe regresa\n",
    "                driver.back()\n",
    "            else:\n",
    "                #si no existe la inserta en la coleccion \n",
    "                collection.insert_one(oferta_dict)\n",
    "                #regresa\n",
    "                driver.back()\n",
    "            #agrega un tiempo de demora\n",
    "            time.sleep(10)\n",
    "            i+= 1\n",
    "    except:\n",
    "        print('Terminado')\n",
    "            "
   ]
  },
  {
   "cell_type": "code",
   "execution_count": null,
   "id": "b8d2a66a",
   "metadata": {},
   "outputs": [],
   "source": [
    "#Inicia el web driver desde su ubicacion en el equipo\n",
    "driver = webdriver.Chrome(executable_path='C:/Users/DELL/Downloads/chromedriver.exe')"
   ]
  },
  {
   "cell_type": "code",
   "execution_count": null,
   "id": "4c9ab293",
   "metadata": {},
   "outputs": [],
   "source": [
    "#Ingresa a la url\n",
    "driver.get(url)"
   ]
  },
  {
   "cell_type": "code",
   "execution_count": null,
   "id": "887ded5b",
   "metadata": {},
   "outputs": [],
   "source": [
    "#Ejecuta el metodo\n",
    "extraer_ofertas(driver)"
   ]
  }
 ],
 "metadata": {
  "kernelspec": {
   "display_name": "Python 3",
   "language": "python",
   "name": "python3"
  },
  "language_info": {
   "codemirror_mode": {
    "name": "ipython",
    "version": 3
   },
   "file_extension": ".py",
   "mimetype": "text/x-python",
   "name": "python",
   "nbconvert_exporter": "python",
   "pygments_lexer": "ipython3",
   "version": "3.7.10"
  }
 },
 "nbformat": 4,
 "nbformat_minor": 5
}
