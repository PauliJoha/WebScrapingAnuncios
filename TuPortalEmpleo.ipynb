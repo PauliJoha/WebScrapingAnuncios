{
 "cells": [
  {
   "cell_type": "code",
   "execution_count": null,
   "id": "b418bcf3",
   "metadata": {},
   "outputs": [],
   "source": [
    "#Importa librerias necesarias\n",
    "import time\n",
    "import pandas as pd\n",
    "from selenium import webdriver\n",
    "from pymongo import MongoClient"
   ]
  },
  {
   "cell_type": "code",
   "execution_count": null,
   "id": "2d04a71d",
   "metadata": {},
   "outputs": [],
   "source": [
    "#Asigna la url de tu portal empleo \n",
    "url = \"https://www.tuportalempleo.com/buscar-ofertas-de-empleo-actuales\""
   ]
  },
  {
   "cell_type": "code",
   "execution_count": null,
   "id": "0afc0189",
   "metadata": {},
   "outputs": [],
   "source": [
    "#Conecta con mongodb\n",
    "Client = MongoClient('localhost',27017)"
   ]
  },
  {
   "cell_type": "code",
   "execution_count": null,
   "id": "e974d15e",
   "metadata": {},
   "outputs": [],
   "source": [
    "#Lista las bases de mongodb\n",
    "Client.list_database_names()"
   ]
  },
  {
   "cell_type": "code",
   "execution_count": null,
   "id": "32d3b707",
   "metadata": {},
   "outputs": [],
   "source": [
    "#Selecciona la base alldata\n",
    "db = Client.alldata\n",
    "db"
   ]
  },
  {
   "cell_type": "code",
   "execution_count": null,
   "id": "b3d86861",
   "metadata": {},
   "outputs": [],
   "source": [
    "#Lista las colecciones\n",
    "colecciones = db.list_collection_names()\n",
    "colecciones"
   ]
  },
  {
   "cell_type": "code",
   "execution_count": null,
   "id": "4183ad9d",
   "metadata": {},
   "outputs": [],
   "source": [
    "#Selecciona la coleccion creada para tuportalempleo\n",
    "collection = db[\"tuportalempleo\"]\n",
    "collection"
   ]
  },
  {
   "cell_type": "code",
   "execution_count": 1,
   "id": "1269aab8",
   "metadata": {},
   "outputs": [],
   "source": [
    "#Crea el metodo\n",
    "def extraer_ofertas(driver):\n",
    "    print('Realizando scraping...')\n",
    "    i=1\n",
    "    try:\n",
    "        #guarda las ofertas en una lista\n",
    "        ofertas = driver.find_elements_by_xpath('//*[@id=\"tablaOfertas\"]/div[@class=\"Ofertas\"]/div[@class=\"oferta\"]')\n",
    "        #recorre la lista\n",
    "        while i <= len(ofertas):\n",
    "            #vuelve a guardar la lista de las ofertas para actualizarla\n",
    "            ofertas = driver.find_elements_by_xpath('//*[@id=\"tablaOfertas\"]/div[@class=\"Ofertas\"]/div[@class=\"oferta\"]')\n",
    "            #selecciona la oferta deacuerdo a la posicion del while\n",
    "            oferta=ofertas[i]\n",
    "            #convierte la posicion en string\n",
    "            a=str(i)\n",
    "            #selecciona la oferta segun el string y le da click\n",
    "            oferta.find_element_by_xpath('//*[@id=\"tablaOfertas\"]/div/div['+a+']/a/div[1]/h3').click()\n",
    "            #agrega un tiempo de demora\n",
    "            time.sleep(5)\n",
    "            #obtiene los datos de la oferta\n",
    "            cargo = driver.find_element_by_xpath('//*[@id=\"tituloOferta\"]/h1').text\n",
    "            tipocontrato = driver.find_element_by_xpath('/html/body/div[3]/div[1]/div[1]/div[2]/div[1]/div[2]/div[2]/div[2]/div/input').get_attribute('value')\n",
    "            ciudad = driver.find_element_by_xpath('/html/body/div[3]/div[1]/div[1]/div[2]/div[1]/div[2]/div[1]/div[1]/div/input').get_attribute('value')\n",
    "            fechapublicacion = driver.find_element_by_xpath('/html/body/div[3]/div[1]/div[1]/div[2]/div[1]/div[2]/div[1]/div[2]/div/input').get_attribute('value')\n",
    "            remuneracion = driver.find_element_by_xpath('/html/body/div[3]/div[1]/div[1]/div[2]/div[1]/div[2]/div[1]/div[3]/div/input').get_attribute('value')\n",
    "            categoria = driver.find_element_by_xpath('/html/body/div[3]/div[1]/div[1]/div[2]/div[1]/div[2]/div[2]/div[1]/div/input').get_attribute('value')\n",
    "            sectorlaboral = driver.find_element_by_xpath('/html/body/div[3]/div[1]/div[1]/div[2]/div[1]/div[2]/div[1]/div[4]/div/input').get_attribute('value')\n",
    "            contrato = driver.find_element_by_xpath('/html/body/div[3]/div[1]/div[1]/div[2]/div[1]/div[2]/div[2]/div[3]/div/input').get_attribute('value')\n",
    "            contenido = driver.find_element_by_xpath('/html/body/div[3]/div[1]/div[1]/div[2]/div[2]/div[1]/div/div').text.replace('\\n',\"\")\n",
    "            \n",
    "            #guarda en un diccionario\n",
    "            oferta_dict = {\n",
    "                'portalweb':\"tuportalempleo\",\n",
    "                'cargo':cargo,\n",
    "                'tipocontrato':tipocontrato,\n",
    "                'ciudad':ciudad,\n",
    "                'fechapublicacion':fechapublicacion,\n",
    "                'remuneracion':remuneracion,\n",
    "                'categoria':categoria,\n",
    "                'sectorlaboral':sectorlaboral,\n",
    "                'contrato':contrato,\n",
    "                'contenido':contenido\n",
    "            }\n",
    "            \n",
    "            #consulta si el empleo ya existe\n",
    "            if collection.find_one(oferta_dict):\n",
    "                #si existe regresa\n",
    "                driver.back()\n",
    "            else:\n",
    "                #si no existe inserta en la coleccion\n",
    "                collection.insert_one(oferta_dict)\n",
    "                #regresa\n",
    "                driver.back()\n",
    "            #agrega un tiempo de demora\n",
    "            time.sleep(5)\n",
    "            i+= 1\n",
    "    except:\n",
    "        print('Terminado')\n",
    "        "
   ]
  },
  {
   "cell_type": "code",
   "execution_count": null,
   "id": "d85ed657",
   "metadata": {},
   "outputs": [],
   "source": [
    "#Inicia el web driver desde su ubicacion en el equipo\n",
    "driver = webdriver.Chrome(executable_path='C:/Users/DELL/Downloads/chromedriver.exe')"
   ]
  },
  {
   "cell_type": "code",
   "execution_count": null,
   "id": "ccb08c6f",
   "metadata": {},
   "outputs": [],
   "source": [
    "#Ingresa a la url\n",
    "driver.get(url)"
   ]
  },
  {
   "cell_type": "code",
   "execution_count": null,
   "id": "fb737edc",
   "metadata": {},
   "outputs": [],
   "source": [
    "#Ejecuta el metodo\n",
    "extraer_ofertas(driver)"
   ]
  },
  {
   "cell_type": "code",
   "execution_count": null,
   "id": "5d1d9c03",
   "metadata": {},
   "outputs": [],
   "source": []
  },
  {
   "cell_type": "code",
   "execution_count": null,
   "id": "e83ca47c",
   "metadata": {},
   "outputs": [],
   "source": []
  }
 ],
 "metadata": {
  "kernelspec": {
   "display_name": "Python 3",
   "language": "python",
   "name": "python3"
  },
  "language_info": {
   "codemirror_mode": {
    "name": "ipython",
    "version": 3
   },
   "file_extension": ".py",
   "mimetype": "text/x-python",
   "name": "python",
   "nbconvert_exporter": "python",
   "pygments_lexer": "ipython3",
   "version": "3.7.10"
  }
 },
 "nbformat": 4,
 "nbformat_minor": 5
}
